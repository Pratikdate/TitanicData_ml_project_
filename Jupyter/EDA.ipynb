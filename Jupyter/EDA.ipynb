{
 "cells": [
  {
   "cell_type": "code",
   "execution_count": 7,
   "metadata": {},
   "outputs": [],
   "source": [
    "import polars as pl \n",
    "import pandas as pd\n",
    "import numpy as np\n",
    "import matplotlib.pyplot as plt \n",
    "\n",
    "import os\n",
    "\n"
   ]
  },
  {
   "cell_type": "code",
   "execution_count": 9,
   "metadata": {},
   "outputs": [
    {
     "ename": "FileNotFoundError",
     "evalue": "No such file or directory: Jupyter\train.csv",
     "output_type": "error",
     "traceback": [
      "\u001b[1;31m---------------------------------------------------------------------------\u001b[0m",
      "\u001b[1;31mFileNotFoundError\u001b[0m                         Traceback (most recent call last)",
      "Cell \u001b[1;32mIn[9], line 1\u001b[0m\n\u001b[1;32m----> 1\u001b[0m df\u001b[39m=\u001b[39mpl\u001b[39m.\u001b[39;49mread_csv(\u001b[39m\"\u001b[39;49m\u001b[39mJupyter\u001b[39;49m\u001b[39m\\t\u001b[39;49;00m\u001b[39mrain.csv\u001b[39;49m\u001b[39m\"\u001b[39;49m)\n",
      "File \u001b[1;32mc:\\Users\\USER\\anaconda3\\envs\\tensorflow_env\\lib\\site-packages\\polars\\io\\csv\\functions.py:355\u001b[0m, in \u001b[0;36mread_csv\u001b[1;34m(source, has_header, columns, new_columns, separator, comment_char, quote_char, skip_rows, dtypes, null_values, missing_utf8_is_empty_string, ignore_errors, try_parse_dates, n_threads, infer_schema_length, batch_size, n_rows, encoding, low_memory, rechunk, use_pyarrow, storage_options, skip_rows_after_header, row_count_name, row_count_offset, sample_size, eol_char)\u001b[0m\n\u001b[0;32m    347\u001b[0m         dtypes \u001b[39m=\u001b[39m {\n\u001b[0;32m    348\u001b[0m             new_to_current\u001b[39m.\u001b[39mget(column_name, column_name): column_dtype\n\u001b[0;32m    349\u001b[0m             \u001b[39mfor\u001b[39;00m column_name, column_dtype \u001b[39min\u001b[39;00m dtypes\u001b[39m.\u001b[39mitems()\n\u001b[0;32m    350\u001b[0m         }\n\u001b[0;32m    352\u001b[0m \u001b[39mwith\u001b[39;00m _prepare_file_arg(\n\u001b[0;32m    353\u001b[0m     source, encoding\u001b[39m=\u001b[39mencoding, use_pyarrow\u001b[39m=\u001b[39m\u001b[39mFalse\u001b[39;00m, \u001b[39m*\u001b[39m\u001b[39m*\u001b[39mstorage_options\n\u001b[0;32m    354\u001b[0m ) \u001b[39mas\u001b[39;00m data:\n\u001b[1;32m--> 355\u001b[0m     df \u001b[39m=\u001b[39m pli\u001b[39m.\u001b[39;49mDataFrame\u001b[39m.\u001b[39;49m_read_csv(\n\u001b[0;32m    356\u001b[0m         data,\n\u001b[0;32m    357\u001b[0m         has_header\u001b[39m=\u001b[39;49mhas_header,\n\u001b[0;32m    358\u001b[0m         columns\u001b[39m=\u001b[39;49mcolumns \u001b[39mif\u001b[39;49;00m columns \u001b[39melse\u001b[39;49;00m projection,\n\u001b[0;32m    359\u001b[0m         separator\u001b[39m=\u001b[39;49mseparator,\n\u001b[0;32m    360\u001b[0m         comment_char\u001b[39m=\u001b[39;49mcomment_char,\n\u001b[0;32m    361\u001b[0m         quote_char\u001b[39m=\u001b[39;49mquote_char,\n\u001b[0;32m    362\u001b[0m         skip_rows\u001b[39m=\u001b[39;49mskip_rows,\n\u001b[0;32m    363\u001b[0m         dtypes\u001b[39m=\u001b[39;49mdtypes,\n\u001b[0;32m    364\u001b[0m         null_values\u001b[39m=\u001b[39;49mnull_values,\n\u001b[0;32m    365\u001b[0m         missing_utf8_is_empty_string\u001b[39m=\u001b[39;49mmissing_utf8_is_empty_string,\n\u001b[0;32m    366\u001b[0m         ignore_errors\u001b[39m=\u001b[39;49mignore_errors,\n\u001b[0;32m    367\u001b[0m         try_parse_dates\u001b[39m=\u001b[39;49mtry_parse_dates,\n\u001b[0;32m    368\u001b[0m         n_threads\u001b[39m=\u001b[39;49mn_threads,\n\u001b[0;32m    369\u001b[0m         infer_schema_length\u001b[39m=\u001b[39;49minfer_schema_length,\n\u001b[0;32m    370\u001b[0m         batch_size\u001b[39m=\u001b[39;49mbatch_size,\n\u001b[0;32m    371\u001b[0m         n_rows\u001b[39m=\u001b[39;49mn_rows,\n\u001b[0;32m    372\u001b[0m         encoding\u001b[39m=\u001b[39;49mencoding \u001b[39mif\u001b[39;49;00m encoding \u001b[39m==\u001b[39;49m \u001b[39m\"\u001b[39;49m\u001b[39mutf8-lossy\u001b[39;49m\u001b[39m\"\u001b[39;49m \u001b[39melse\u001b[39;49;00m \u001b[39m\"\u001b[39;49m\u001b[39mutf8\u001b[39;49m\u001b[39m\"\u001b[39;49m,\n\u001b[0;32m    373\u001b[0m         low_memory\u001b[39m=\u001b[39;49mlow_memory,\n\u001b[0;32m    374\u001b[0m         rechunk\u001b[39m=\u001b[39;49mrechunk,\n\u001b[0;32m    375\u001b[0m         skip_rows_after_header\u001b[39m=\u001b[39;49mskip_rows_after_header,\n\u001b[0;32m    376\u001b[0m         row_count_name\u001b[39m=\u001b[39;49mrow_count_name,\n\u001b[0;32m    377\u001b[0m         row_count_offset\u001b[39m=\u001b[39;49mrow_count_offset,\n\u001b[0;32m    378\u001b[0m         sample_size\u001b[39m=\u001b[39;49msample_size,\n\u001b[0;32m    379\u001b[0m         eol_char\u001b[39m=\u001b[39;49meol_char,\n\u001b[0;32m    380\u001b[0m     )\n\u001b[0;32m    382\u001b[0m \u001b[39mif\u001b[39;00m new_columns:\n\u001b[0;32m    383\u001b[0m     \u001b[39mreturn\u001b[39;00m _update_columns(df, new_columns)\n",
      "File \u001b[1;32mc:\\Users\\USER\\anaconda3\\envs\\tensorflow_env\\lib\\site-packages\\polars\\dataframe\\frame.py:777\u001b[0m, in \u001b[0;36mDataFrame._read_csv\u001b[1;34m(cls, source, has_header, columns, separator, comment_char, quote_char, skip_rows, dtypes, null_values, missing_utf8_is_empty_string, ignore_errors, try_parse_dates, n_threads, infer_schema_length, batch_size, n_rows, encoding, low_memory, rechunk, skip_rows_after_header, row_count_name, row_count_offset, sample_size, eol_char)\u001b[0m\n\u001b[0;32m    770\u001b[0m         \u001b[39mraise\u001b[39;00m \u001b[39mValueError\u001b[39;00m(\n\u001b[0;32m    771\u001b[0m             \u001b[39m\"\u001b[39m\u001b[39mcannot use glob patterns and integer based projection as `columns`\u001b[39m\u001b[39m\"\u001b[39m\n\u001b[0;32m    772\u001b[0m             \u001b[39m\"\u001b[39m\u001b[39m argument; Use columns: List[str]\u001b[39m\u001b[39m\"\u001b[39m\n\u001b[0;32m    773\u001b[0m         )\n\u001b[0;32m    775\u001b[0m projection, columns \u001b[39m=\u001b[39m handle_projection_columns(columns)\n\u001b[1;32m--> 777\u001b[0m \u001b[39mself\u001b[39m\u001b[39m.\u001b[39m_df \u001b[39m=\u001b[39m PyDataFrame\u001b[39m.\u001b[39;49mread_csv(\n\u001b[0;32m    778\u001b[0m     source,\n\u001b[0;32m    779\u001b[0m     infer_schema_length,\n\u001b[0;32m    780\u001b[0m     batch_size,\n\u001b[0;32m    781\u001b[0m     has_header,\n\u001b[0;32m    782\u001b[0m     ignore_errors,\n\u001b[0;32m    783\u001b[0m     n_rows,\n\u001b[0;32m    784\u001b[0m     skip_rows,\n\u001b[0;32m    785\u001b[0m     projection,\n\u001b[0;32m    786\u001b[0m     separator,\n\u001b[0;32m    787\u001b[0m     rechunk,\n\u001b[0;32m    788\u001b[0m     columns,\n\u001b[0;32m    789\u001b[0m     encoding,\n\u001b[0;32m    790\u001b[0m     n_threads,\n\u001b[0;32m    791\u001b[0m     path,\n\u001b[0;32m    792\u001b[0m     dtype_list,\n\u001b[0;32m    793\u001b[0m     dtype_slice,\n\u001b[0;32m    794\u001b[0m     low_memory,\n\u001b[0;32m    795\u001b[0m     comment_char,\n\u001b[0;32m    796\u001b[0m     quote_char,\n\u001b[0;32m    797\u001b[0m     processed_null_values,\n\u001b[0;32m    798\u001b[0m     missing_utf8_is_empty_string,\n\u001b[0;32m    799\u001b[0m     try_parse_dates,\n\u001b[0;32m    800\u001b[0m     skip_rows_after_header,\n\u001b[0;32m    801\u001b[0m     _prepare_row_count_args(row_count_name, row_count_offset),\n\u001b[0;32m    802\u001b[0m     sample_size\u001b[39m=\u001b[39;49msample_size,\n\u001b[0;32m    803\u001b[0m     eol_char\u001b[39m=\u001b[39;49meol_char,\n\u001b[0;32m    804\u001b[0m )\n\u001b[0;32m    805\u001b[0m \u001b[39mreturn\u001b[39;00m \u001b[39mself\u001b[39m\n",
      "\u001b[1;31mFileNotFoundError\u001b[0m: No such file or directory: Jupyter\train.csv"
     ]
    }
   ],
   "source": [
    "df=pl.read_csv(\"Jupyter\\Train.csv\")\n"
   ]
  },
  {
   "cell_type": "code",
   "execution_count": null,
   "metadata": {},
   "outputs": [],
   "source": []
  },
  {
   "cell_type": "code",
   "execution_count": null,
   "metadata": {},
   "outputs": [],
   "source": []
  }
 ],
 "metadata": {
  "kernelspec": {
   "display_name": "tensorflow_env",
   "language": "python",
   "name": "python3"
  },
  "language_info": {
   "codemirror_mode": {
    "name": "ipython",
    "version": 3
   },
   "file_extension": ".py",
   "mimetype": "text/x-python",
   "name": "python",
   "nbconvert_exporter": "python",
   "pygments_lexer": "ipython3",
   "version": "3.10.9"
  },
  "orig_nbformat": 4
 },
 "nbformat": 4,
 "nbformat_minor": 2
}
